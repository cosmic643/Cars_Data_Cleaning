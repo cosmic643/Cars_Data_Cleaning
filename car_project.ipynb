{
  "nbformat": 4,
  "nbformat_minor": 0,
  "metadata": {
    "colab": {
      "name": "car_project.ipynb",
      "provenance": [],
      "collapsed_sections": [],
      "authorship_tag": "ABX9TyOYVa4H2Zv9dDSmDBNJR+fP",
      "include_colab_link": true
    },
    "kernelspec": {
      "name": "python3",
      "display_name": "Python 3"
    },
    "language_info": {
      "name": "python"
    }
  },
  "cells": [
    {
      "cell_type": "markdown",
      "metadata": {
        "id": "view-in-github",
        "colab_type": "text"
      },
      "source": [
        "<a href=\"https://colab.research.google.com/github/cosmic643/cars_data_Cleaning/blob/main/car_project.ipynb\" target=\"_parent\"><img src=\"https://colab.research.google.com/assets/colab-badge.svg\" alt=\"Open In Colab\"/></a>"
      ]
    },
    {
      "cell_type": "code",
      "execution_count": null,
      "metadata": {
        "colab": {
          "base_uri": "https://localhost:8080/"
        },
        "id": "pbjgedCFuErg",
        "outputId": "512cfeba-bf76-4c47-c493-77e281ad48ed"
      },
      "outputs": [
        {
          "output_type": "stream",
          "name": "stdout",
          "text": [
            "Drive already mounted at /content/drive; to attempt to forcibly remount, call drive.mount(\"/content/drive\", force_remount=True).\n"
          ]
        }
      ],
      "source": [
        "from google.colab import drive\n",
        "drive.mount('/content/drive')"
      ]
    },
    {
      "cell_type": "code",
      "source": [
        "import pandas as pd\n",
        "from sklearn.preprocessing import LabelEncoder\n",
        "import seaborn as sns\n",
        "import matplotlib.pyplot as plt\n",
        "import numpy as np\n",
        "path = \"/content/drive/MyDrive/cars_engage_2022.csv\"\n",
        "cars = pd.read_csv(path)\n",
        "cars_temp = pd.read_csv(path)\n",
        "lab_enc = LabelEncoder()"
      ],
      "metadata": {
        "id": "KE5pgDeDhO5x"
      },
      "execution_count": null,
      "outputs": []
    },
    {
      "cell_type": "markdown",
      "source": [
        "Pre-cars Analysis"
      ],
      "metadata": {
        "id": "24-3sM-Y-OFl"
      }
    },
    {
      "cell_type": "code",
      "source": [
        "total = cars.isnull().sum().sort_values(ascending = False)\n",
        "percent = (cars.isnull().sum()/cars.isnull().count()).sort_values(ascending = False)\n",
        "missing_data = pd.concat([total,percent],axis = 1,keys = ['Total','Percent'])\n",
        "missing_data.head(20)"
      ],
      "metadata": {
        "colab": {
          "base_uri": "https://localhost:8080/",
          "height": 676
        },
        "id": "LABkk9k--Nil",
        "outputId": "bfc660a3-3ebd-4512-b03f-973160877665"
      },
      "execution_count": null,
      "outputs": [
        {
          "output_type": "execute_result",
          "data": {
            "text/plain": [
              "                                       Total   Percent\n",
              "Recommended_Tyre_Pressure               1266  0.992163\n",
              "Other_Specs                             1266  0.992163\n",
              "Battery                                 1263  0.989812\n",
              "Electric_Range                          1259  0.986677\n",
              "ARAI_Certified_Mileage_for_CNG          1249  0.978840\n",
              "USB_Ports                               1247  0.977273\n",
              "Engine_Type                             1242  0.973354\n",
              "Heads-Up_Display                        1225  0.960031\n",
              "3_Point_Seat-Belt_in_Middle_Rear_Seat   1225  0.960031\n",
              "Ambient_Lightning                       1220  0.956113\n",
              "Other_specs                             1213  0.950627\n",
              "Lane_Watch_Camera/_Side_Mirror_Camera   1210  0.948276\n",
              "Welcome_Lights                          1207  0.945925\n",
              "Walk_Away_Auto_Car_Lock                 1173  0.919279\n",
              "Cargo/Boot_Lights                       1155  0.905172\n",
              "Voice_Recognition                       1144  0.896552\n",
              "Passenger_Side_Seat-Belt_Reminder       1105  0.865987\n",
              "Apple_CarPlay                           1103  0.864420\n",
              "Android_Auto                            1103  0.864420\n",
              "Drive_Modes                             1081  0.847179"
            ],
            "text/html": [
              "\n",
              "  <div id=\"df-3a1ee5b5-fef3-4574-adc6-8a0147f3848f\">\n",
              "    <div class=\"colab-df-container\">\n",
              "      <div>\n",
              "<style scoped>\n",
              "    .dataframe tbody tr th:only-of-type {\n",
              "        vertical-align: middle;\n",
              "    }\n",
              "\n",
              "    .dataframe tbody tr th {\n",
              "        vertical-align: top;\n",
              "    }\n",
              "\n",
              "    .dataframe thead th {\n",
              "        text-align: right;\n",
              "    }\n",
              "</style>\n",
              "<table border=\"1\" class=\"dataframe\">\n",
              "  <thead>\n",
              "    <tr style=\"text-align: right;\">\n",
              "      <th></th>\n",
              "      <th>Total</th>\n",
              "      <th>Percent</th>\n",
              "    </tr>\n",
              "  </thead>\n",
              "  <tbody>\n",
              "    <tr>\n",
              "      <th>Recommended_Tyre_Pressure</th>\n",
              "      <td>1266</td>\n",
              "      <td>0.992163</td>\n",
              "    </tr>\n",
              "    <tr>\n",
              "      <th>Other_Specs</th>\n",
              "      <td>1266</td>\n",
              "      <td>0.992163</td>\n",
              "    </tr>\n",
              "    <tr>\n",
              "      <th>Battery</th>\n",
              "      <td>1263</td>\n",
              "      <td>0.989812</td>\n",
              "    </tr>\n",
              "    <tr>\n",
              "      <th>Electric_Range</th>\n",
              "      <td>1259</td>\n",
              "      <td>0.986677</td>\n",
              "    </tr>\n",
              "    <tr>\n",
              "      <th>ARAI_Certified_Mileage_for_CNG</th>\n",
              "      <td>1249</td>\n",
              "      <td>0.978840</td>\n",
              "    </tr>\n",
              "    <tr>\n",
              "      <th>USB_Ports</th>\n",
              "      <td>1247</td>\n",
              "      <td>0.977273</td>\n",
              "    </tr>\n",
              "    <tr>\n",
              "      <th>Engine_Type</th>\n",
              "      <td>1242</td>\n",
              "      <td>0.973354</td>\n",
              "    </tr>\n",
              "    <tr>\n",
              "      <th>Heads-Up_Display</th>\n",
              "      <td>1225</td>\n",
              "      <td>0.960031</td>\n",
              "    </tr>\n",
              "    <tr>\n",
              "      <th>3_Point_Seat-Belt_in_Middle_Rear_Seat</th>\n",
              "      <td>1225</td>\n",
              "      <td>0.960031</td>\n",
              "    </tr>\n",
              "    <tr>\n",
              "      <th>Ambient_Lightning</th>\n",
              "      <td>1220</td>\n",
              "      <td>0.956113</td>\n",
              "    </tr>\n",
              "    <tr>\n",
              "      <th>Other_specs</th>\n",
              "      <td>1213</td>\n",
              "      <td>0.950627</td>\n",
              "    </tr>\n",
              "    <tr>\n",
              "      <th>Lane_Watch_Camera/_Side_Mirror_Camera</th>\n",
              "      <td>1210</td>\n",
              "      <td>0.948276</td>\n",
              "    </tr>\n",
              "    <tr>\n",
              "      <th>Welcome_Lights</th>\n",
              "      <td>1207</td>\n",
              "      <td>0.945925</td>\n",
              "    </tr>\n",
              "    <tr>\n",
              "      <th>Walk_Away_Auto_Car_Lock</th>\n",
              "      <td>1173</td>\n",
              "      <td>0.919279</td>\n",
              "    </tr>\n",
              "    <tr>\n",
              "      <th>Cargo/Boot_Lights</th>\n",
              "      <td>1155</td>\n",
              "      <td>0.905172</td>\n",
              "    </tr>\n",
              "    <tr>\n",
              "      <th>Voice_Recognition</th>\n",
              "      <td>1144</td>\n",
              "      <td>0.896552</td>\n",
              "    </tr>\n",
              "    <tr>\n",
              "      <th>Passenger_Side_Seat-Belt_Reminder</th>\n",
              "      <td>1105</td>\n",
              "      <td>0.865987</td>\n",
              "    </tr>\n",
              "    <tr>\n",
              "      <th>Apple_CarPlay</th>\n",
              "      <td>1103</td>\n",
              "      <td>0.864420</td>\n",
              "    </tr>\n",
              "    <tr>\n",
              "      <th>Android_Auto</th>\n",
              "      <td>1103</td>\n",
              "      <td>0.864420</td>\n",
              "    </tr>\n",
              "    <tr>\n",
              "      <th>Drive_Modes</th>\n",
              "      <td>1081</td>\n",
              "      <td>0.847179</td>\n",
              "    </tr>\n",
              "  </tbody>\n",
              "</table>\n",
              "</div>\n",
              "      <button class=\"colab-df-convert\" onclick=\"convertToInteractive('df-3a1ee5b5-fef3-4574-adc6-8a0147f3848f')\"\n",
              "              title=\"Convert this dataframe to an interactive table.\"\n",
              "              style=\"display:none;\">\n",
              "        \n",
              "  <svg xmlns=\"http://www.w3.org/2000/svg\" height=\"24px\"viewBox=\"0 0 24 24\"\n",
              "       width=\"24px\">\n",
              "    <path d=\"M0 0h24v24H0V0z\" fill=\"none\"/>\n",
              "    <path d=\"M18.56 5.44l.94 2.06.94-2.06 2.06-.94-2.06-.94-.94-2.06-.94 2.06-2.06.94zm-11 1L8.5 8.5l.94-2.06 2.06-.94-2.06-.94L8.5 2.5l-.94 2.06-2.06.94zm10 10l.94 2.06.94-2.06 2.06-.94-2.06-.94-.94-2.06-.94 2.06-2.06.94z\"/><path d=\"M17.41 7.96l-1.37-1.37c-.4-.4-.92-.59-1.43-.59-.52 0-1.04.2-1.43.59L10.3 9.45l-7.72 7.72c-.78.78-.78 2.05 0 2.83L4 21.41c.39.39.9.59 1.41.59.51 0 1.02-.2 1.41-.59l7.78-7.78 2.81-2.81c.8-.78.8-2.07 0-2.86zM5.41 20L4 18.59l7.72-7.72 1.47 1.35L5.41 20z\"/>\n",
              "  </svg>\n",
              "      </button>\n",
              "      \n",
              "  <style>\n",
              "    .colab-df-container {\n",
              "      display:flex;\n",
              "      flex-wrap:wrap;\n",
              "      gap: 12px;\n",
              "    }\n",
              "\n",
              "    .colab-df-convert {\n",
              "      background-color: #E8F0FE;\n",
              "      border: none;\n",
              "      border-radius: 50%;\n",
              "      cursor: pointer;\n",
              "      display: none;\n",
              "      fill: #1967D2;\n",
              "      height: 32px;\n",
              "      padding: 0 0 0 0;\n",
              "      width: 32px;\n",
              "    }\n",
              "\n",
              "    .colab-df-convert:hover {\n",
              "      background-color: #E2EBFA;\n",
              "      box-shadow: 0px 1px 2px rgba(60, 64, 67, 0.3), 0px 1px 3px 1px rgba(60, 64, 67, 0.15);\n",
              "      fill: #174EA6;\n",
              "    }\n",
              "\n",
              "    [theme=dark] .colab-df-convert {\n",
              "      background-color: #3B4455;\n",
              "      fill: #D2E3FC;\n",
              "    }\n",
              "\n",
              "    [theme=dark] .colab-df-convert:hover {\n",
              "      background-color: #434B5C;\n",
              "      box-shadow: 0px 1px 3px 1px rgba(0, 0, 0, 0.15);\n",
              "      filter: drop-shadow(0px 1px 2px rgba(0, 0, 0, 0.3));\n",
              "      fill: #FFFFFF;\n",
              "    }\n",
              "  </style>\n",
              "\n",
              "      <script>\n",
              "        const buttonEl =\n",
              "          document.querySelector('#df-3a1ee5b5-fef3-4574-adc6-8a0147f3848f button.colab-df-convert');\n",
              "        buttonEl.style.display =\n",
              "          google.colab.kernel.accessAllowed ? 'block' : 'none';\n",
              "\n",
              "        async function convertToInteractive(key) {\n",
              "          const element = document.querySelector('#df-3a1ee5b5-fef3-4574-adc6-8a0147f3848f');\n",
              "          const dataTable =\n",
              "            await google.colab.kernel.invokeFunction('convertToInteractive',\n",
              "                                                     [key], {});\n",
              "          if (!dataTable) return;\n",
              "\n",
              "          const docLinkHtml = 'Like what you see? Visit the ' +\n",
              "            '<a target=\"_blank\" href=https://colab.research.google.com/notebooks/data_table.ipynb>data table notebook</a>'\n",
              "            + ' to learn more about interactive tables.';\n",
              "          element.innerHTML = '';\n",
              "          dataTable['output_type'] = 'display_data';\n",
              "          await google.colab.output.renderOutput(dataTable, element);\n",
              "          const docLink = document.createElement('div');\n",
              "          docLink.innerHTML = docLinkHtml;\n",
              "          element.appendChild(docLink);\n",
              "        }\n",
              "      </script>\n",
              "    </div>\n",
              "  </div>\n",
              "  "
            ]
          },
          "metadata": {},
          "execution_count": 5
        }
      ]
    },
    {
      "cell_type": "markdown",
      "source": [
        "Univariate Analysis of Price of Cars"
      ],
      "metadata": {
        "id": "rkxbxGKgAma7"
      }
    },
    {
      "cell_type": "markdown",
      "source": [
        "Filling Showroom price with the mean values of the column"
      ],
      "metadata": {
        "id": "RqCG-IpXDaNS"
      }
    },
    {
      "cell_type": "code",
      "source": [
        "cars['Ex-Showroom_Price'] = cars['Ex-Showroom_Price'].str.replace(\"Rs.\",\"\").str.replace(\",\",\"\")\n",
        "cars['Ex-Showroom_Price']=pd.to_numeric(cars['Ex-Showroom_Price'],errors='coerce')\n",
        "cars['Ex-Showroom_Price']=cars['Ex-Showroom_Price'].fillna(cars['Ex-Showroom_Price'].mean())"
      ],
      "metadata": {
        "colab": {
          "base_uri": "https://localhost:8080/"
        },
        "id": "f06QGGzwBj7T",
        "outputId": "f2847e1d-de07-47e2-d53a-b40bf54eea3f"
      },
      "execution_count": null,
      "outputs": [
        {
          "output_type": "stream",
          "name": "stderr",
          "text": [
            "/usr/local/lib/python3.7/dist-packages/ipykernel_launcher.py:1: FutureWarning: The default value of regex will change from True to False in a future version.\n",
            "  \"\"\"Entry point for launching an IPython kernel.\n"
          ]
        }
      ]
    },
    {
      "cell_type": "code",
      "source": [
        "sns.histplot(cars['Ex-Showroom_Price'])"
      ],
      "metadata": {
        "colab": {
          "base_uri": "https://localhost:8080/",
          "height": 297
        },
        "id": "2rhyqwfJAmCj",
        "outputId": "57768142-1cb3-4054-c74e-399dc503c9b5"
      },
      "execution_count": null,
      "outputs": [
        {
          "output_type": "execute_result",
          "data": {
            "text/plain": [
              "<matplotlib.axes._subplots.AxesSubplot at 0x7f9ff60eec10>"
            ]
          },
          "metadata": {},
          "execution_count": 7
        },
        {
          "output_type": "display_data",
          "data": {
            "text/plain": [
              "<Figure size 432x288 with 1 Axes>"
            ],
            "image/png": "[encoded data removed]"
          },
          "metadata": {
            "needs_background": "light"
          }
        }
      ]
    },
    {
      "cell_type": "markdown",
      "source": [
        "Displacement"
      ],
      "metadata": {
        "id": "wEsjBuwGFEoB"
      }
    },
    {
      "cell_type": "code",
      "source": [
        "cars['Displacement']=cars['Displacement'].str.replace(\"cc\",\"\")\n",
        "cars['Displacement']=pd.to_numeric(cars['Displacement'],errors='coerce')\n",
        "cars['Displacement'] = cars['Displacement'].fillna(cars['Displacement'].mean())"
      ],
      "metadata": {
        "id": "3yjH3WgGFEF5"
      },
      "execution_count": null,
      "outputs": []
    },
    {
      "cell_type": "code",
      "source": [
        "sns.histplot(cars['Displacement'])"
      ],
      "metadata": {
        "colab": {
          "base_uri": "https://localhost:8080/",
          "height": 296
        },
        "id": "QAXgMqAEGXzQ",
        "outputId": "045a5d23-4269-4da2-cc63-783f5e7e5da5"
      },
      "execution_count": null,
      "outputs": [
        {
          "output_type": "execute_result",
          "data": {
            "text/plain": [
              "<matplotlib.axes._subplots.AxesSubplot at 0x7f9ff59da1d0>"
            ]
          },
          "metadata": {},
          "execution_count": 9
        },
        {
          "output_type": "display_data",
          "data": {
            "text/plain": [
              "<Figure size 432x288 with 1 Axes>"
            ],
            "image/png": "[encoded data removed]"
          },
          "metadata": {
            "needs_background": "light"
          }
        }
      ]
    },
    {
      "cell_type": "markdown",
      "source": [
        "For number of cylinders"
      ],
      "metadata": {
        "id": "l5tZKid4UiTC"
      }
    },
    {
      "cell_type": "code",
      "source": [
        "cars['Cylinder'] = cars['Cylinders'].fillna(cars['Cylinders'].mode())"
      ],
      "metadata": {
        "id": "PbDg6TBeSroD"
      },
      "execution_count": null,
      "outputs": []
    },
    {
      "cell_type": "markdown",
      "source": [
        "For Valves per Cyliner"
      ],
      "metadata": {
        "id": "6etuLdG4UnF1"
      }
    },
    {
      "cell_type": "code",
      "source": [
        "cars['Valves_Per_Cylinder'] = cars['Valves_Per_Cylinder'].fillna(cars['Valves_Per_Cylinder'].mode())"
      ],
      "metadata": {
        "id": "bikdQZdUUtUz"
      },
      "execution_count": null,
      "outputs": []
    },
    {
      "cell_type": "markdown",
      "source": [
        "Fuel tank Capacity"
      ],
      "metadata": {
        "id": "-mPqTtIgTvRh"
      }
    },
    {
      "cell_type": "code",
      "source": [
        "cars['Fuel_Tank_Capacity'] = cars['Fuel_Tank_Capacity'].str.replace(\" litres\",\"\")\n",
        "cars['Fuel_Tank_Capacity'] = pd.to_numeric(cars['Fuel_Tank_Capacity'],errors='coerce')\n",
        "cars['Fuel_Tank_Capacity'] = cars['Fuel_Tank_Capacity'].fillna(cars['Fuel_Tank_Capacity'].mean())"
      ],
      "metadata": {
        "id": "FsV4WSGzTyzB"
      },
      "execution_count": null,
      "outputs": []
    },
    {
      "cell_type": "markdown",
      "source": [
        "Height, Length and width"
      ],
      "metadata": {
        "id": "VnGkcg-hVo7X"
      }
    },
    {
      "cell_type": "code",
      "source": [
        "cars['Height'] = cars['Height'].str.replace(\"mm\",\"\")\n",
        "cars['Height'] = pd.to_numeric(cars['Height'],errors='coerce')\n",
        "cars['Height'] = cars['Height'].fillna(cars['Height'].mean())\n",
        "cars['Length'] = cars['Length'].str.replace(\"mm\",\"\")\n",
        "cars['Length'] = pd.to_numeric(cars['Length'],errors='coerce')\n",
        "cars['Length'] = cars['Length'].fillna(cars['Length'].mean())\n",
        "cars['Width'] = cars['Width'].str.replace(\"mm\",\"\")\n",
        "cars['Width'] = pd.to_numeric(cars['Width'],errors='coerce')\n",
        "cars['Width'] = cars['Width'].fillna(cars['Width'].mean())"
      ],
      "metadata": {
        "id": "GbxBNUhUVpKY"
      },
      "execution_count": null,
      "outputs": []
    },
    {
      "cell_type": "markdown",
      "source": [
        "City, highway and all other mileages"
      ],
      "metadata": {
        "id": "NE4eKV92XXmA"
      }
    },
    {
      "cell_type": "code",
      "source": [
        "cars['City_Mileage']=cars['City_Mileage'].str.replace(\"km/litre\",\"\")\n",
        "cars['City_Mileage']=pd.to_numeric(cars['City_Mileage'],errors='coerce')\n",
        "cars['City_Mileage'] = cars['City_Mileage'].fillna(cars['City_Mileage'].mean())\n",
        "cars['Highway_Mileage']=cars['Highway_Mileage'].str.replace(\"km/litre\",\"\")\n",
        "cars['Highway_Mileage']=pd.to_numeric(cars['Highway_Mileage'],errors='coerce')\n",
        "cars['Highway_Mileage'] = cars['Highway_Mileage'].fillna(cars['Highway_Mileage'].mean())"
      ],
      "metadata": {
        "id": "XD2VQfXCXX33"
      },
      "execution_count": null,
      "outputs": []
    },
    {
      "cell_type": "code",
      "source": [
        "cars['ARAI_Certified_Mileage'] = cars['ARAI_Certified_Mileage'].str.replace(\"km/litre\",\"\")\n",
        "cars['ARAI_Certified_Mileage'] = pd.to_numeric(cars['ARAI_Certified_Mileage'],errors='coerce')\n",
        "cars['ARAI_Certified_Mileage'] = cars['ARAI_Certified_Mileage'].fillna(cars['ARAI_Certified_Mileage'].mean())\n",
        "cars['ARAI_Certified_Mileage_for_CNG'] = cars['ARAI_Certified_Mileage_for_CNG'].str.replace(\"km/kg\",\"\")\n",
        "cars['ARAI_Certified_Mileage_for_CNG'] = pd.to_numeric(cars['ARAI_Certified_Mileage_for_CNG'],errors='coerce')\n",
        "cars['ARAI_Certified_Mileage_for_CNG'] = cars['ARAI_Certified_Mileage_for_CNG'].fillna(cars['ARAI_Certified_Mileage_for_CNG'].mean())"
      ],
      "metadata": {
        "id": "NFyNB4bGbeSV"
      },
      "execution_count": null,
      "outputs": []
    },
    {
      "cell_type": "markdown",
      "source": [
        "Similarly filling missing values in other Data Columns as Well"
      ],
      "metadata": {
        "id": "OFoQ2z8EdfKr"
      }
    },
    {
      "cell_type": "markdown",
      "source": [
        "Kerb Weight"
      ],
      "metadata": {
        "id": "9i8AV0Qxnxcv"
      }
    },
    {
      "cell_type": "code",
      "source": [
        "cars['Kerb_Weight'] = cars['Kerb_Weight'].str.replace(\"kg\",\"\")\n",
        "cars['Kerb_Weight'] = pd.to_numeric(cars['Kerb_Weight'],errors='coerce')\n",
        "cars['Kerb_Weight'] = cars['Kerb_Weight'].fillna(cars['Kerb_Weight'].mean())"
      ],
      "metadata": {
        "id": "518brnncn0rt"
      },
      "execution_count": null,
      "outputs": []
    },
    {
      "cell_type": "markdown",
      "source": [
        "Ground Clearance"
      ],
      "metadata": {
        "id": "tZhIvQoZn1G3"
      }
    },
    {
      "cell_type": "code",
      "source": [
        "cars['Ground_Clearance'] = cars['Ground_Clearance'].str.replace(\"mm\",\"\")\n",
        "cars['Ground_Clearance'] = pd.to_numeric(cars['Ground_Clearance'],errors='coerce')\n",
        "cars['Ground_Clearance'] = cars['Ground_Clearance'].fillna(cars['Ground_Clearance'].mean())"
      ],
      "metadata": {
        "id": "DiD6GWxCn1bM"
      },
      "execution_count": null,
      "outputs": []
    },
    {
      "cell_type": "markdown",
      "source": [
        "Front Track"
      ],
      "metadata": {
        "id": "bO25vglQn1st"
      }
    },
    {
      "cell_type": "code",
      "source": [
        "cars['Front_Track'] = cars['Front_Track'].str.replace(\"mm\",\"\")\n",
        "cars['Front_Track'] = pd.to_numeric(cars['Front_Track'],errors='coerce')\n",
        "cars['Front_Track'] = cars['Front_Track'].fillna(cars['Front_Track'].mean())"
      ],
      "metadata": {
        "id": "qULD50ayn139"
      },
      "execution_count": null,
      "outputs": []
    },
    {
      "cell_type": "markdown",
      "source": [
        "Rear Track"
      ],
      "metadata": {
        "id": "Q-nWzQ31oBoI"
      }
    },
    {
      "cell_type": "code",
      "source": [
        "cars['Rear_Track'] = cars['Rear_Track'].str.replace(\"mm\",\"\")\n",
        "cars['Rear_Track'] = pd.to_numeric(cars['Rear_Track'],errors='coerce')\n",
        "cars['Rear_Track'] = cars['Rear_Track'].fillna(cars['Rear_Track'].mean())"
      ],
      "metadata": {
        "id": "q2uwuYOQoBUr"
      },
      "execution_count": null,
      "outputs": []
    },
    {
      "cell_type": "markdown",
      "source": [
        "Wheel Base"
      ],
      "metadata": {
        "id": "sfq-7RmjoMJo"
      }
    },
    {
      "cell_type": "code",
      "source": [
        "cars['Wheelbase'] = cars['Wheelbase'].str.replace(\"mm\",\"\")\n",
        "cars['Wheelbase'] = pd.to_numeric(cars['Wheelbase'],errors='coerce')\n",
        "cars['Wheelbase'] = cars['Wheelbase'].fillna(cars['Wheelbase'].mean())"
      ],
      "metadata": {
        "id": "9MQErGKvoLuR"
      },
      "execution_count": null,
      "outputs": []
    },
    {
      "cell_type": "markdown",
      "source": [
        "Boot Space"
      ],
      "metadata": {
        "id": "YveaTYcwoUDI"
      }
    },
    {
      "cell_type": "code",
      "source": [
        "cars['Boot_Space'] = cars['Boot_Space'].str.replace(\"litres\",\"\")\n",
        "cars['Boot_Space'] = pd.to_numeric(cars['Boot_Space'],errors='coerce')\n",
        "cars['Boot_Space'] = cars['Boot_Space'].fillna(cars['Boot_Space'].mean())"
      ],
      "metadata": {
        "id": "59EKaLMMoT3Q"
      },
      "execution_count": null,
      "outputs": []
    },
    {
      "cell_type": "markdown",
      "source": [
        "Grossing Vehicle Weight"
      ],
      "metadata": {
        "id": "LBlDSXeSoYeY"
      }
    },
    {
      "cell_type": "code",
      "source": [
        "cars['Minimum_Turning_Radius'] = cars['Minimum_Turning_Radius'].str.replace(\"meter\",\"\")\n",
        "cars['Minimum_Turning_Radius'] = pd.to_numeric(cars['Minimum_Turning_Radius'],errors='coerce')\n",
        "cars['Minimum_Turning_Radius'] = cars['Minimum_Turning_Radius'].fillna(cars['Minimum_Turning_Radius'].mean())"
      ],
      "metadata": {
        "id": "yb7J65TVoYLv"
      },
      "execution_count": null,
      "outputs": []
    },
    {
      "cell_type": "markdown",
      "source": [
        "Gross Vehicle Range"
      ],
      "metadata": {
        "id": "iDzjhnxmo2TP"
      }
    },
    {
      "cell_type": "code",
      "source": [
        "cars['Gross_Vehicle_Weight'] = cars['Gross_Vehicle_Weight'].str.replace(\"kg\",\"\")\n",
        "cars['Gross_Vehicle_Weight'] = pd.to_numeric(cars['Gross_Vehicle_Weight'],errors='coerce')\n",
        "cars['Gross_Vehicle_Weight'] = cars['Gross_Vehicle_Weight'].fillna(cars['Gross_Vehicle_Weight'].mean())"
      ],
      "metadata": {
        "id": "UquKBMBAo2iw"
      },
      "execution_count": null,
      "outputs": []
    },
    {
      "cell_type": "markdown",
      "source": [
        "Electric Range"
      ],
      "metadata": {
        "id": "Z6Dx0NCzo6SO"
      }
    },
    {
      "cell_type": "code",
      "source": [
        "cars['Electric_Range'] = cars['Electric_Range'].str.replace(\"km/full charge\",\"\")\n",
        "cars['Electric_Range'] = pd.to_numeric(cars['Electric_Range'],errors='coerce')\n",
        "cars['Electric_Range'] = cars['Electric_Range'].fillna(cars['Electric_Range'].mean())"
      ],
      "metadata": {
        "id": "ze97kYn5o6Bn"
      },
      "execution_count": null,
      "outputs": []
    },
    {
      "cell_type": "markdown",
      "source": [
        "Battery"
      ],
      "metadata": {
        "id": "6ZVcn-rfo9go"
      }
    },
    {
      "cell_type": "code",
      "source": [
        "cars['Battery']=cars['Battery'].str.replace(\"ampere-hour\",\"\").str.replace(\"kWh,Battery Placed Under Rear Seats\",\"\").str.replace(\"(kWh), Lithium Ion\",\"\").str.replace(\" kWh* Advanced Li-ion polymer, liquid cooled battery pack with IP67 certification\",\"\").str.replace(\"\",\"\").str.replace(\"(kWh), Lithium Ion\",\"\")\n",
        "cars['Battery']=pd.to_numeric(cars['Battery'],errors='coerce')\n",
        "cars['Battery']=cars['Battery'].fillna(cars['Battery'].mean())"
      ],
      "metadata": {
        "id": "INgnKX4io9sf",
        "colab": {
          "base_uri": "https://localhost:8080/"
        },
        "outputId": "c3a2f2bc-b9dd-4ff9-f41c-d15442bebf58"
      },
      "execution_count": null,
      "outputs": [
        {
          "output_type": "stream",
          "name": "stderr",
          "text": [
            "/usr/local/lib/python3.7/dist-packages/ipykernel_launcher.py:1: FutureWarning: The default value of regex will change from True to False in a future version.\n",
            "  \"\"\"Entry point for launching an IPython kernel.\n"
          ]
        }
      ]
    },
    {
      "cell_type": "markdown",
      "source": [
        "Compression Ratio, USB Ports, Seating Capacity and Gears"
      ],
      "metadata": {
        "id": "ggBFcP2httZF"
      }
    },
    {
      "cell_type": "code",
      "source": [
        "cars['Gears']=pd.to_numeric(cars['Gears'],errors='coerce')\n",
        "cars['Gears']=cars['Gears'].fillna(cars['Gears'].mode())\n",
        "cars['Compression_Ratio']=pd.to_numeric(cars['Compression_Ratio'],errors='coerce')\n",
        "cars['USB_Ports']=pd.to_numeric(cars['USB_Ports'],errors='coerce')\n",
        "cars['USB_Ports']=cars['USB_Ports'].fillna(cars['USB_Ports'].mean())\n",
        "cars['Seating_Capacity']=cars['Seating_Capacity'].fillna(cars['Seating_Capacity'].median())\n",
        "cars['Compression_Ratio']=cars['Compression_Ratio'].fillna(cars['Compression_Ratio'].mean())"
      ],
      "metadata": {
        "id": "LA3e8faCdPFU"
      },
      "execution_count": null,
      "outputs": []
    },
    {
      "cell_type": "markdown",
      "source": [
        "Drive train"
      ],
      "metadata": {
        "id": "f5q2vym9x2gK"
      }
    },
    {
      "cell_type": "markdown",
      "source": [
        "Labeling Encoding the Categorical Data"
      ],
      "metadata": {
        "id": "4xv5JIzPJ_pH"
      }
    },
    {
      "cell_type": "code",
      "source": [
        "cars['Drivetrain'] = lab_enc.fit_transform(cars.Drivetrain)\n",
        "cars['Drivetrain'] = cars['Drivetrain'].fillna(cars['Drivetrain'].mode(),inplace = False)\n",
        "cars['Start_/_Stop_Button'] = cars['Start_/_Stop_Button'].fillna(\"No\")\n",
        "cars['Start_/_Stop_Button']=lab_enc.fit_transform(cars['Start_/_Stop_Button'])\n",
        "cars['12v_Power_Outlet'] = cars['12v_Power_Outlet'].fillna(\"No\")\n",
        "cars['12v_Power_Outlet']=lab_enc.fit_transform(cars['12v_Power_Outlet'])\n",
        "cars['Average_Fuel_Consumption'] = cars['Average_Fuel_Consumption'].fillna(\"No\")\n",
        "cars['Average_Fuel_Consumption']=lab_enc.fit_transform(cars['Average_Fuel_Consumption'])\n",
        "cars['Central_Locking'] = cars['Central_Locking'].fillna(\"No\")\n",
        "cars['Central_Locking'] = lab_enc.fit_transform(cars['Central_Locking'])\n",
        "cars['Engine_Malfunction_Light'] = cars['Engine_Malfunction_Light'].fillna(\"No\")\n",
        "cars['Engine_Malfunction_Light'] = lab_enc.fit_transform(cars['Engine_Malfunction_Light'])\n",
        "cars['Low_Fuel_Warning'] = cars['Low_Fuel_Warning'].fillna(\"No\")\n",
        "cars['Low_Fuel_Warning'] = lab_enc.fit_transform(cars['Low_Fuel_Warning'])\n",
        "cars['Multifunction_Displayg'] = cars['Multifunction_Display'].fillna(\"No\")\n",
        "cars['Multifunction_Display'] = lab_enc.fit_transform(cars['Multifunction_Display'])\n",
        "cars['Auto-Dimming_Rear-View_Mirror'] = cars['Auto-Dimming_Rear-View_Mirror'].fillna(\"No\")\n",
        "cars['Auto-Dimming_Rear-View_Mirror'] = lab_enc.fit_transform(cars['Auto-Dimming_Rear-View_Mirror'])\n",
        "cars['3_Point_Seat-Belt_in_Middle_Rear_Seat'] = cars['3_Point_Seat-Belt_in_Middle_Rear_Seat'].fillna(\"No\")\n",
        "cars['3_Point_Seat-Belt_in_Middle_Rear_Seat'] = lab_enc.fit_transform(cars['3_Point_Seat-Belt_in_Middle_Rear_Seat'])\n",
        "cars['Ambient_Lightning'] = cars['Ambient_Lightning'].fillna(\"No\")\n",
        "cars['Ambient_Lightning'] = lab_enc.fit_transform(cars['Ambient_Lightning'])\n",
        "cars['Cargo/Boot_Lights'] = lab_enc.fit_transform(cars['Cargo/Boot_Lights'])\n",
        "cars['Engine_Immobilizer'] = lab_enc.fit_transform(cars['Engine_Immobilizer'])\n",
        "cars['High_Speed_Alert_System'] = lab_enc.fit_transform(cars['High_Speed_Alert_System'])\n",
        "cars['Lane_Watch_Camera/_Side_Mirror_Camera'] = lab_enc.fit_transform(cars['Lane_Watch_Camera/_Side_Mirror_Camera'])\n",
        "cars['Passenger_Side_Seat-Belt_Reminder'] = lab_enc.fit_transform(cars['Passenger_Side_Seat-Belt_Reminder'])\n",
        "cars['Seat_Back_Pockets'] = lab_enc.fit_transform(cars['Seat_Back_Pockets'])\n",
        "cars['Voice_Recognition'] = lab_enc.fit_transform(cars['Voice_Recognition'])\n",
        "cars['Walk_Away_Auto_Car_Lock'] = lab_enc.fit_transform(cars['Walk_Away_Auto_Car_Lock'])\n",
        "cars['ABS_(Anti-lock_Braking_System)'] = lab_enc.fit_transform(cars['ABS_(Anti-lock_Braking_System)'])\n",
        "cars['Headlight_Reminder'] = lab_enc.fit_transform(cars['Headlight_Reminder'])\n",
        "cars['Door_Ajar_Warning'] = lab_enc.fit_transform(cars['Door_Ajar_Warning'])\n",
        "cars['EBD_(Electronic_Brake-force_Distribution)'] = lab_enc.fit_transform(cars['EBD_(Electronic_Brake-force_Distribution)'])\n",
        "cars['Fasten_Seat_Belt_Warning'] = lab_enc.fit_transform(cars['Fasten_Seat_Belt_Warning'])\n",
        "cars['Gear_Shift_Reminder'] = lab_enc.fit_transform(cars['Gear_Shift_Reminder'])\n",
        "cars['Key_Off_Reminder'] = lab_enc.fit_transform(cars['Key_Off_Reminder'])\n",
        "cars['USB_Compatibility'] = lab_enc.fit_transform(cars['USB_Compatibility'])\n",
        "cars['Android_Auto'] = lab_enc.fit_transform(cars['Android_Auto'])\n",
        "cars['Apple_CarPlay'] = lab_enc.fit_transform(cars['Apple_CarPlay'])\n",
        "cars['iPod_Compatibility'] = lab_enc.fit_transform(cars['iPod_Compatibility'])\n",
        "cars['ESP_(Electronic_Stability_Program)'] = lab_enc.fit_transform(cars['ESP_(Electronic_Stability_Program)'])\n",
        "cars['Cooled_Glove_Box'] = lab_enc.fit_transform(cars['Cooled_Glove_Box'])\n",
        "cars['Turbocharger'] = lab_enc.fit_transform(cars['Turbocharger'])\n",
        "cars['ISOFIX_(Child-Seat_Mount)'] = lab_enc.fit_transform(cars['ISOFIX_(Child-Seat_Mount)'])\n",
        "cars['Rain_Sensing_Wipers'] = lab_enc.fit_transform(cars['Rain_Sensing_Wipers'])\n",
        "cars['Paddle_Shifters'] = lab_enc.fit_transform(cars['Paddle_Shifters'])\n",
        "cars['Leather_Wrapped_Steering'] = lab_enc.fit_transform(cars['Leather_Wrapped_Steering'])\n",
        "cars['Automatic_Headlamps'] = lab_enc.fit_transform(cars['Automatic_Headlamps'])\n",
        "cars['ASR_/_Traction_Control'] = lab_enc.fit_transform(cars['ASR_/_Traction_Control'])\n",
        "cars['Cruise_Control'] = lab_enc.fit_transform(cars['Cruise_Control'])\n",
        "cars['Heads-Up_Display'] = lab_enc.fit_transform(cars['Heads-Up_Display'])\n",
        "cars['Welcome_Lights'] = lab_enc.fit_transform(cars['Welcome_Lights'])\n",
        "cars['Cigarette_Lighter'] = lab_enc.fit_transform(cars['Cigarette_Lighter'])\n",
        "cars['Average_Speed'] = lab_enc.fit_transform(cars['Average_Speed'])\n",
        "cars['EBA_(Electronic_Brake_Assist)'] = lab_enc.fit_transform(cars['EBA_(Electronic_Brake_Assist)'])\n",
        "cars['Navigation_System'] = lab_enc.fit_transform(cars['Navigation_System'])\n",
        "cars['Second_Row_AC_Vents'] = lab_enc.fit_transform(cars['Second_Row_AC_Vents'])\n",
        "cars['Tyre_Pressure_Monitoring_System'] = lab_enc.fit_transform(cars['Tyre_Pressure_Monitoring_System'])"
      ],
      "metadata": {
        "id": "nL5VIxe5yNqr"
      },
      "execution_count": 77,
      "outputs": []
    },
    {
      "cell_type": "markdown",
      "source": [
        "The above code transforms the data in a machine readable form and thus now algos like regression or clustering can be applied in them to predict values"
      ],
      "metadata": {
        "id": "bMFtES2tGHp2"
      }
    },
    {
      "cell_type": "markdown",
      "source": [
        "Fixing the missing maker's name \n",
        "There are only two particular makers with missing names i.e.\n",
        "1.   Mercedes\n",
        "2.   Rolls Royce\n",
        "3.   Datsun\n",
        "\n",
        "Now in this first I replaced all the missing values with mercedes(as most of the missing data was to be filled by mercedes only) and then manually replaced the columns with Datsun and Rolls Royce\n"
      ],
      "metadata": {
        "id": "2VRx2uNDFmyk"
      }
    },
    {
      "cell_type": "code",
      "source": [
        "cars['Make'] = cars['Make'].fillna('Mercedes')\n",
        "cars['Make'][883] = 'Datsun'\n",
        "cars['Make'][884] = 'Datsun'\n",
        "cars['Make'][885] = 'Datsun'\n",
        "cars['Make'][886] = 'Datsun'\n",
        "cars['Make'][887] = 'Datsun'\n",
        "cars['Make'][888] = 'Datsun'\n",
        "cars['Make'][889] = 'Datsun'\n",
        "cars['Make'][890] = 'Datsun'\n",
        "cars['Make'][891] = 'Datsun'\n",
        "cars['Make'][1219] = 'Rolls Royce'\n",
        "cars['Make'][1220] = 'Rolls Royce'"
      ],
      "metadata": {
        "id": "M9z0DZALFl_m"
      },
      "execution_count": null,
      "outputs": []
    },
    {
      "cell_type": "code",
      "source": [
        "car_counts = cars['Make'].value_counts()\n",
        "car_counts"
      ],
      "metadata": {
        "colab": {
          "base_uri": "https://localhost:8080/"
        },
        "id": "tZe6JPgXJgis",
        "outputId": "3e717910-23cf-498e-9f86-b2d91ecf6d46"
      },
      "execution_count": null,
      "outputs": [
        {
          "output_type": "execute_result",
          "data": {
            "text/plain": [
              "Maruti Suzuki       149\n",
              "Hyundai             130\n",
              "Mahindra            119\n",
              "Tata                100\n",
              "Toyota               82\n",
              "Honda                64\n",
              "Mercedes             64\n",
              "Ford                 43\n",
              "Skoda                43\n",
              "Bmw                  37\n",
              "Renault              36\n",
              "Volkswagen           34\n",
              "Audi                 31\n",
              "Nissan               29\n",
              "Jeep                 28\n",
              "Land Rover Rover     27\n",
              "Datsun               24\n",
              "Fiat                 23\n",
              "Jaguar               22\n",
              "Kia                  21\n",
              "Volvo                18\n",
              "Porsche              14\n",
              "Maruti Suzuki R      14\n",
              "Lamborghini          13\n",
              "Mg                   13\n",
              "Icml                 11\n",
              "Mini                 10\n",
              "Land Rover           10\n",
              "Lexus                10\n",
              "Maserati              9\n",
              "Ferrari               8\n",
              "Mitsubishi            7\n",
              "Premier               6\n",
              "Bentley               6\n",
              "Force                 6\n",
              "Isuzu                 5\n",
              "Aston Martin          3\n",
              "Bugatti               2\n",
              "Bajaj                 2\n",
              "Rolls Royce           2\n",
              "Dc                    1\n",
              "Name: Make, dtype: int64"
            ]
          },
          "metadata": {},
          "execution_count": 74
        }
      ]
    },
    {
      "cell_type": "markdown",
      "source": [
        "Plotting a pie chart to represent the on road car share of each brand\n"
      ],
      "metadata": {
        "id": "3WcP6OQkJ3SJ"
      }
    },
    {
      "cell_type": "code",
      "source": [
        "chrt = car_counts.plot(kind = 'pie')\n",
        "chrt.set_title(\"Share of cars in market of each maker\")"
      ],
      "metadata": {
        "colab": {
          "base_uri": "https://localhost:8080/",
          "height": 281
        },
        "id": "ZzWlMRScJ2zK",
        "outputId": "e70d0ae2-4aa3-4879-ff9f-c0a787f2b66e"
      },
      "execution_count": 78,
      "outputs": [
        {
          "output_type": "execute_result",
          "data": {
            "text/plain": [
              "Text(0.5, 1.0, 'Share of cars in market of each maker')"
            ]
          },
          "metadata": {},
          "execution_count": 78
        },
        {
          "output_type": "display_data",
          "data": {
            "text/plain": [
              "<Figure size 432x288 with 1 Axes>"
            ],
            "image/png": "[encoded data removed]"
          },
          "metadata": {}
        }
      ]
    }
  ]
}